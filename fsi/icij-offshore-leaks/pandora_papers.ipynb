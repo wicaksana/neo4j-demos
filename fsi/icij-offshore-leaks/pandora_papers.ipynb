{
 "cells": [
  {
   "cell_type": "markdown",
   "metadata": {},
   "source": [
    "# Pandora Papers\n",
    "\n",
    "## Pandora Papers - The Data Connecting Politicians, Criminals and a Rogue Industry that hides their cash\n",
    "Original walkthrough can be accessed by running `:play https://guides.neo4j.com/sandbox/icij-offshoreleaks/pandora-papers-examples.html` in Neo4j Browser. Unfortunately, the dataset for Neo4j 5 somehow doesn't contain Pandora Papers data. Thus, if you run it on Neo4j sandbox, you won't get any result.\n",
    "\n",
    "This walkthrough uses the data for Neo4j 4.4 running on a Docker container. You can execute the script [run_pandora.sh](./run_pandora.sh).\n",
    "\n"
   ]
  },
  {
   "cell_type": "markdown",
   "metadata": {},
   "source": [
    "### Discover the relationships between two entity officers who share common entity or adddress\n",
    "\n",
    "For example, let's say we want to discover the shortest paths between two entity officers through a set of Entity or Address nodes. This is quite easy with Cypher, Neo4j's graph query language.\n",
    "\n",
    "```sql\n",
    "MATCH (a:Officer),(b:Officer)\n",
    "          WHERE a.name CONTAINS 'MATUWANGA' AND a.sourceID STARTS WITH \"Pandora Papers\"\n",
    "            AND b.name CONTAINS 'UZUN' AND b.sourceID STARTS WITH \"Pandora Papers\"\n",
    "          MATCH p=allShortestPaths((a)-[:officer_of|intermediary_of|registered_address*..10]-(b))\n",
    "          RETURN p\n",
    "          LIMIT 50\n",
    "```\n",
    "![](img/pan001.png)\n"
   ]
  },
  {
   "cell_type": "markdown",
   "metadata": {},
   "source": [
    "### Entity registered by an intermediary\n",
    "\n",
    "```sql\n",
    "MATCH (i:Intermediary)-[r:intermediary_of]->(e:Entity)\n",
    "WHERE i.name CONTAINS \"SFM CORPORATE SERVICES S.A.\" AND e.sourceID STARTS WITH \"Pandora Papers\"\n",
    "RETURN i, r, e LIMIT 100\n",
    "```\n",
    "\n",
    "![](img/pan002.png)"
   ]
  },
  {
   "cell_type": "markdown",
   "metadata": {},
   "source": []
  },
  {
   "cell_type": "markdown",
   "metadata": {},
   "source": [
    "### Search for Officer nodes by name\n",
    "\n",
    "```sql\n",
    ":param officer=>\"ORLOV\"\n",
    "\n",
    "MATCH (o:Officer)\n",
    "WHERE o.name CONTAINS $officer AND o.sourceID STARTS WITH \"Pandora Papers\"\n",
    "RETURN o\n",
    "LIMIT 100\n",
    "```"
   ]
  },
  {
   "cell_type": "markdown",
   "metadata": {},
   "source": [
    "### Search for an Officer and find the connections\n",
    "\n",
    "#### 1st degree\n",
    "\n",
    "```sql\n",
    "MATCH (o:Officer)\n",
    "WHERE o.name CONTAINS $officer AND o.sourceID STARTS WITH \"Pandora Papers\"\n",
    "MATCH path = (o)-[r]->(:Entity)\n",
    "RETURN path LIMIT 100\n",
    "```\n",
    "\n",
    "#### 2nd degree\n",
    "\n",
    "```sql\n",
    "MATCH (o:Officer) \n",
    "WHERE o.name CONTAINS $officer AND o.sourceID STARTS WITH \"Pandora Papers\"\n",
    "MATCH path = (o)-[]->(:Entity)\n",
    "      <-[]-(:Officer)-[]->(:Entity)\n",
    "RETURN path LIMIT 100\n",
    "```\n",
    "![](img/pan003.png)"
   ]
  },
  {
   "cell_type": "markdown",
   "metadata": {},
   "source": [
    "### Find who is behind an Entity and the roles that they play\n",
    "\n",
    "```sql\n",
    ":param entity=>\"DANSUNN FINANCE LTD.\"\n",
    "\n",
    "MATCH (e:Entity)-[r]-(o:Officer)\n",
    "WHERE e.name CONTAINS $entity AND e.sourceID STARTS WITH \"Pandora Papers\"\n",
    "RETURN *\n",
    "LIMIT 100\n",
    "```\n",
    "\n",
    "![](img/pan004.png)"
   ]
  },
  {
   "cell_type": "markdown",
   "metadata": {},
   "source": [
    "## Pandora Papers - \"The Landlord\" Investigation\n",
    "\n",
    "Original article: https://neo4j.com/developer-blog/digging-into-the-icij-pandora-papers-dataset-with-neo4j/\n",
    "\n",
    "\"The Landlord\" investigation article: https://www.icij.org/investigations/pandora-papers/the-land-lords/\n"
   ]
  },
  {
   "cell_type": "markdown",
   "metadata": {},
   "source": [
    "In “South Africa’s smart city” Ruslan Goryukhin – a key aide to some of Putin’s closet friends – is reported to be connected to companies involved in the development of the first “post apartheid smart city” – Cradle City in South Africa.\n",
    "\n",
    "Let’s see what we find in our data, first querying for Goryukhin.\n",
    "\n",
    "```sql\n",
    "MATCH path = (o:Officer)-[r]->(:Entity)\n",
    "WHERE o.name CONTAINS 'GORYUKHIN' AND o.sourceID STARTS WITH \"Pandora Papers\"\n",
    "RETURN path LIMIT 100 \n",
    "```\n",
    "\n",
    "![](img/pan005.png)"
   ]
  },
  {
   "cell_type": "markdown",
   "metadata": {},
   "source": [
    "Another person mentioned in the story was “Preston Hampton Haskell IV, the son of a Texas construction billionaire.” Let’s see if we can find him too, and his connections to Goryukhin.\n",
    "\n",
    "```sql\n",
    "MATCH (o:Officer), (o2:Officer)\n",
    "WHERE o.name CONTAINS 'GORYUKHIN' AND o.sourceID STARTS WITH \"Pandora Papers\" AND o2.name contains 'PRESTON HAMPTON HASKELL'\n",
    "MATCH path=allShortestPaths((o)-[*]-(o2))\n",
    "RETURN path LIMIT 25\n",
    "```\n",
    "![](img/pan006.png)\n",
    "\n",
    "The report speaks of a shell company named Kelburn One and Amari Land International Ltd – later renamed to Forum Properties Africa – which unfortunately are not in the published dataset."
   ]
  },
  {
   "cell_type": "markdown",
   "metadata": {},
   "source": []
  }
 ],
 "metadata": {
  "language_info": {
   "name": "python"
  }
 },
 "nbformat": 4,
 "nbformat_minor": 2
}
