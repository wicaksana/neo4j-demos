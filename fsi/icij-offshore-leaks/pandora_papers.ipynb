{
 "cells": [
  {
   "cell_type": "markdown",
   "metadata": {},
   "source": [
    "# Pandora Papers - The Data Connecting Politicians, Criminals and a Rogue Industry that hides their cash\n",
    "\n",
    "Original walkthrough can be accessed by running `:play https://guides.neo4j.com/sandbox/icij-offshoreleaks/pandora-papers-examples.html` in Neo4j Browser. Unfortunately, the dataset for Neo4j 5 somehow doesn't contain Pandora Papers data. Thus, if you run it on Neo4j sandbox, you won't get any result.\n",
    "\n",
    "This walkthrough uses the data for Neo4j 4.4 running on a Docker container. You can execute the script [run_pandora.sh](./run_pandora.sh).\n",
    "\n"
   ]
  },
  {
   "cell_type": "markdown",
   "metadata": {},
   "source": [
    "### Discover the relationships between two entity officers who share common entity or adddress\n",
    "\n",
    "For example, let's say we want to discover the shortest paths between two entity officers through a set of Entity or Address nodes. This is quite easy with Cypher, Neo4j's graph query language.\n",
    "\n",
    "```sql\n",
    "MATCH (a:Officer),(b:Officer)\n",
    "          WHERE a.name CONTAINS 'MATUWANGA' AND a.sourceID STARTS WITH \"Pandora Papers\"\n",
    "            AND b.name CONTAINS 'UZUN' AND b.sourceID STARTS WITH \"Pandora Papers\"\n",
    "          MATCH p=allShortestPaths((a)-[:officer_of|intermediary_of|registered_address*..10]-(b))\n",
    "          RETURN p\n",
    "          LIMIT 50\n",
    "```\n",
    "![](img/pan001.png)\n"
   ]
  },
  {
   "cell_type": "markdown",
   "metadata": {},
   "source": [
    "### Entity registered by an intermediary\n",
    "\n",
    "```sql\n",
    "MATCH (i:Intermediary)-[r:intermediary_of]->(e:Entity)\n",
    "WHERE i.name CONTAINS \"SFM CORPORATE SERVICES S.A.\" AND e.sourceID STARTS WITH \"Pandora Papers\"\n",
    "RETURN i, r, e LIMIT 100\n",
    "```\n",
    "\n",
    "![](img/pan002.png)"
   ]
  },
  {
   "cell_type": "markdown",
   "metadata": {},
   "source": []
  },
  {
   "cell_type": "markdown",
   "metadata": {},
   "source": [
    "### Search for Officer nodes by name\n",
    "\n",
    "```sql\n",
    ":param officer=>\"ORLOV\"\n",
    "\n",
    "MATCH (o:Officer)\n",
    "WHERE o.name CONTAINS $officer AND o.sourceID STARTS WITH \"Pandora Papers\"\n",
    "RETURN o\n",
    "LIMIT 100\n",
    "```"
   ]
  },
  {
   "cell_type": "markdown",
   "metadata": {},
   "source": [
    "### Search for an Officer and find the connections\n",
    "\n",
    "#### 1st degree\n",
    "\n",
    "```sql\n",
    "MATCH (o:Officer)\n",
    "WHERE o.name CONTAINS $officer AND o.sourceID STARTS WITH \"Pandora Papers\"\n",
    "MATCH path = (o)-[r]->(:Entity)\n",
    "RETURN path LIMIT 100\n",
    "```\n",
    "\n",
    "#### 2nd degree\n",
    "\n",
    "```sql\n",
    "MATCH (o:Officer) \n",
    "WHERE o.name CONTAINS $officer AND o.sourceID STARTS WITH \"Pandora Papers\"\n",
    "MATCH path = (o)-[]->(:Entity)\n",
    "      <-[]-(:Officer)-[]->(:Entity)\n",
    "RETURN path LIMIT 100\n",
    "```\n",
    "![](img/pan003.png)"
   ]
  },
  {
   "cell_type": "markdown",
   "metadata": {},
   "source": [
    "### Find who is behind an Entity and the roles that they play\n",
    "\n",
    "```sql\n",
    ":param entity=>\"DANSUNN FINANCE LTD.\"\n",
    "\n",
    "MATCH (e:Entity)-[r]-(o:Officer)\n",
    "WHERE e.name CONTAINS $entity AND e.sourceID STARTS WITH \"Pandora Papers\"\n",
    "RETURN *\n",
    "LIMIT 100\n",
    "```\n",
    "\n",
    "![](img/pan004.png)"
   ]
  },
  {
   "cell_type": "markdown",
   "metadata": {},
   "source": []
  }
 ],
 "metadata": {
  "language_info": {
   "name": "python"
  }
 },
 "nbformat": 4,
 "nbformat_minor": 2
}
