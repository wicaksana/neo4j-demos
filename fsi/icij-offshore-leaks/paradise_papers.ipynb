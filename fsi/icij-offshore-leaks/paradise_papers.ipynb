{
 "cells": [
  {
   "cell_type": "markdown",
   "metadata": {},
   "source": [
    "# Paradise Papers\n",
    "\n",
    "NOTE: the original walkthrough is available using `:play https://guides.neo4j.com/sandbox/icij-offshoreleaks/paradise-papers-examples.html` in Neo4j Browser. I updated some of the Cypher queries that cannot run in Neo4j 5.\n",
    "\n",
    "The demo uses Docker to run. You can execute [run.sh](./run.sh) to start the container."
   ]
  },
  {
   "cell_type": "markdown",
   "metadata": {},
   "source": [
    "## Overview\n",
    "\n",
    "Meta Graph:\n",
    "```sql\n",
    "CALL db.schema.visualization()\n",
    "```\n",
    "Counts per entity type:\n",
    "```sql\n",
    "MATCH (node)\n",
    "RETURN labels(node) AS type,count(*)\n",
    "```\n",
    "\n",
    "Which intermediaries have the most connections to which entities?\n",
    "```sql\n",
    "MATCH (i:Intermediary) WHERE COUNT{(i)--()} > 100 AND i.sourceID STARTS WITH \"Paradise Papers\"\n",
    "MATCH (i)-[connection]-(entity)\n",
    "RETURN i.name as intermediary, type(connection) as relationship, head(labels(entity)) as type, count(*) as count\n",
    "ORDER BY count DESC LIMIT 20;\n",
    "```\n",
    "\n",
    "![](img/003.png)"
   ]
  },
  {
   "cell_type": "markdown",
   "metadata": {},
   "source": [
    "## How Graphs Helped our Investigation\n",
    "\n",
    "For example, let's say we want to discover the shortest paths between two entity officers through a set of Entity or Address nodes. This is quite easy with Cypher, Neo4j's graph query language.\n",
    "\n",
    "```sql\n",
    "MATCH (a:Officer),(b:Officer)\n",
    "          WHERE a.name CONTAINS 'Ross, Jr' \n",
    "            AND b.name CONTAINS 'Grant' AND a.sourceID STARTS WITH \"Paradise Papers\"\n",
    "          MATCH p=allShortestPaths((a)-[:officer_of|intermediary_of|registered_address*..10]-(b))\n",
    "          RETURN p LIMIT 50;\n",
    "```"
   ]
  },
  {
   "cell_type": "markdown",
   "metadata": {},
   "source": []
  },
  {
   "cell_type": "markdown",
   "metadata": {},
   "source": [
    "![](img/001.png)"
   ]
  },
  {
   "cell_type": "markdown",
   "metadata": {},
   "source": []
  },
  {
   "cell_type": "markdown",
   "metadata": {},
   "source": [
    "Jurisdiction distribution of intermediaries in the ICIJ offshore leaks DB (Appleby is an offshore law firm):\n",
    "\n",
    "```sql\n",
    "MATCH (intermediary:Intermediary)-[:intermediary_of]->(e:Entity)\n",
    "          WHERE intermediary.name CONTAINS 'Appleby' AND intermediary.sourceID STARTS WITH \"Paradise Papers\"\n",
    "          RETURN e.jurisdiction AS country, COUNT(*) AS frequency\n",
    "          ORDER BY frequency DESC LIMIT 20;\n",
    "```\n",
    "Result:\n",
    "\n",
    "![](img/002.png)"
   ]
  },
  {
   "cell_type": "markdown",
   "metadata": {},
   "source": []
  },
  {
   "cell_type": "markdown",
   "metadata": {},
   "source": [
    "Entities registered by an Intermediary (Appleby):\n",
    "\n",
    "```sql\n",
    "MATCH (i:Intermediary)-[r:intermediary_of]->(e:Entity)\n",
    "WHERE i.name CONTAINS \"Appleby\"\n",
    "RETURN i, r, e LIMIT 100;\n",
    "```\n",
    "\n",
    "Result:\n",
    "\n",
    "![](img/004.png)"
   ]
  },
  {
   "cell_type": "markdown",
   "metadata": {},
   "source": []
  },
  {
   "cell_type": "markdown",
   "metadata": {},
   "source": [
    "Officers with most entities:\n",
    "\n",
    "```sql\n",
    "MATCH (o:Officer)-[:officer_of]->(:Entity)\n",
    "WHERE o.sourceID STARTS WITH \"Paradise Papers\"\n",
    "RETURN o.name, count(*) as entities\n",
    "ORDER BY entities DESC LIMIT 10;\n",
    "```\n",
    "\n",
    "Result:\n",
    "\n",
    "![](img/005.png)"
   ]
  },
  {
   "cell_type": "markdown",
   "metadata": {},
   "source": []
  },
  {
   "cell_type": "markdown",
   "metadata": {},
   "source": [
    "### Search for Officer nodes by name\n",
    "\n",
    "Enter any name (e.g. from ICIJ [published investigations](https://www.icij.org/investigations/)) into the form then click on the query to execute to see if that person appears in the data. Note that this search is case sensitive and searches exact matches only. We're setting a parameter for the officer which we can reuse later, just click and run the `:param` block.\n",
    "\n",
    "```sql\n",
    ":param officer=>\"Smith\"\n",
    "\n",
    "MATCH (o:Officer)\n",
    "WHERE o.name CONTAINS $officer AND o.sourceID STARTS WITH \"Paradise Papers\"\n",
    "RETURN o\n",
    "LIMIT 100;\n",
    "```\n",
    "\n",
    "Let’s see with which entities our officer was involved with, including first and second degree connections.\n",
    "\n",
    "**First degree:**\n",
    "\n",
    "```sql\n",
    "MATCH (o:Officer)\n",
    "WHERE o.name CONTAINS $officer AND o.sourceID STARTS WITH \"Paradise Papers\"\n",
    "MATCH path = (o)-[r]->(:Entity)\n",
    "RETURN path LIMIT 100\n",
    "```\n",
    "\n",
    "Result:\n",
    "\n",
    "![](img/006.png)\n",
    "\n",
    "**Second degree entities:**\n",
    "\n",
    "```sql\n",
    "MATCH (o:Officer) \n",
    "WHERE o.name CONTAINS $officer AND o.sourceID STARTS WITH \"Paradise Papers\"\n",
    "MATCH path = (o)-[]->(:Entity)<-[]-(:Officer)-[]->(:Entity)\n",
    "RETURN path LIMIT 100;\n",
    "```\n",
    "\n",
    "Result:\n",
    "\n",
    "![](img/007.png)"
   ]
  },
  {
   "cell_type": "markdown",
   "metadata": {},
   "source": [
    "### Find who is behind an Entity and the roles that they play\n",
    "\n",
    "Name of entity: Appleby.\n",
    "\n",
    "```sql\n",
    "MATCH (e:Entity)-[r]-(o:Officer)\n",
    "WHERE e.name CONTAINS $entity AND o.sourceID STARTS WITH \"Paradise Papers\"\n",
    "RETURN *\n",
    "LIMIT 100\n",
    "```"
   ]
  },
  {
   "cell_type": "markdown",
   "metadata": {},
   "source": []
  },
  {
   "cell_type": "markdown",
   "metadata": {},
   "source": [
    "### Joint involvement\n",
    "\n",
    "When investigating, it is very important to identify people that appear to operate together. You can try to find if two officers appear connected to the same entities recurrently by using this query. Note that in this case, the first results show companies because companies can also be officers of entities.\n",
    "\n",
    "```sql\n",
    "MATCH (o1:Officer)-[r1]->(e:Entity)<-[r2]-(o2:Officer)\n",
    "USING JOIN ON e\n",
    "WHERE id(o1) < id(o2) AND COUNT{ (o1)-->() } > 10 AND COUNT{ (o2)-->() } > 10 AND o1.sourceID STARTS WITH \"Paradise Papers\"\n",
    "WITH o1,o2,count(*) as freq, collect(e)[0..10] as entities\n",
    "WHERE freq > 10\n",
    "WITH * ORDER BY freq DESC LIMIT 10\n",
    "RETURN o1.name, o2.name, freq, [e IN entities | e.name];\n",
    "```\n",
    "\n",
    "Result:\n",
    "\n",
    "![](img/008.png)\n",
    "\n",
    "We can attempt to remove companies from the results by filtering our Officer names that contain strings commonly found in company names such as \"LLC\", \"Limited\", \"Ltd\", etc:\n",
    "\n",
    "```sql\n",
    "MATCH (o1:Officer)-[r1]->(e:Entity)<-[r2]-(o2:Officer)\n",
    "USING JOIN ON e\n",
    "WHERE id(o1) < id(o2) AND NOT o1.name CONTAINS \"LIMITED\" AND NOT o1.name CONTAINS \"Limited\" AND o1.sourceID STARTS WITH \"Paradise Papers\"\n",
    "AND NOT o2.name CONTAINS \"Limited\" AND NOT o2.name CONTAINS \"LIMITED\"\n",
    "AND COUNT{ (o1)-->() } > 10 AND COUNT{ (o2)-->() } > 10\n",
    "WITH o1,o2,count(*) as freq, collect(e)[0..10] as entities\n",
    "WHERE freq > 10\n",
    "WITH * ORDER BY freq DESC LIMIT 10\n",
    "RETURN o1.name, o2.name, freq, [e IN entities | e.name]\n",
    "```\n",
    "\n",
    "![](img/009.png)\n",
    "\n",
    "Visualize the graph:\n",
    "\n",
    "```sql\n",
    "MATCH (o1:Officer)-[r1]->(e:Entity)<-[r2]-(o2:Officer)\n",
    "USING JOIN ON e\n",
    "WHERE id(o1) < id(o2) AND NOT o1.name CONTAINS \"LIMITED\" AND NOT o1.name CONTAINS \"Limited\" AND o1.sourceID STARTS WITH \"Paradise Papers\"\n",
    "AND NOT o2.name CONTAINS \"Limited\" AND NOT o2.name CONTAINS \"LIMITED\"\n",
    "AND COUNT{ (o1)-->() } > 10 AND COUNT{ (o2)-->() } > 10\n",
    "WITH o1,o2,count(*) as freq, collect(e)[0..10] as entities\n",
    "WHERE freq > 200\n",
    "RETURN o1,o2,apoc.create.vRelationship(o1,'JOINT',{freq:freq,entities:[e IN entities| e.name]},o2)\n",
    "```\n",
    "\n",
    "![](img/010.png)"
   ]
  },
  {
   "cell_type": "markdown",
   "metadata": {},
   "source": []
  },
  {
   "cell_type": "markdown",
   "metadata": {},
   "source": [
    "### Shortest path between two people\n",
    "\n",
    "Name of the first officer: Smith, Name of the second officer: Grant\n",
    "\n",
    "```sql\n",
    "MATCH (a:Officer),(b:Officer)\n",
    "WHERE a.name CONTAINS 'Smith' AND b.name CONTAINS 'Grant' AND a.sourceID STARTS WITH \"Paradise Papers\"\n",
    "WITH a,b LIMIT 20000\n",
    "MATCH p=allShortestPaths((a)-[:officer_of|intermediary_of|registered_address*..10]-(b))\n",
    "RETURN p\n",
    "LIMIT 50;\n",
    "```\n"
   ]
  },
  {
   "cell_type": "markdown",
   "metadata": {},
   "source": []
  },
  {
   "cell_type": "markdown",
   "metadata": {},
   "source": [
    "### Query by address\n",
    "\n",
    "We can use Neo4j's string comparison functions to search for addresses that contain cities and countries in which we are interested:\n",
    "\n",
    "```sql\n",
    "MATCH (a:Address)<-[:registered_address]-(other)\n",
    "WHERE a.address CONTAINS 'Barcelona' AND a.countries CONTAINS 'Spain' AND a.sourceID STARTS WITH \"Paradise Papers\"\n",
    "RETURN a, other\n",
    "LIMIT 100\n",
    "```"
   ]
  },
  {
   "cell_type": "markdown",
   "metadata": {},
   "source": [
    "### Offshore entity juridictions by intermediary\n",
    "\n",
    "What are the most popular offshore jurisdictions for certain intermediaries?\n",
    "\n",
    "```sql\n",
    "MATCH (a:Address)<-[:registered_address]-(other)\n",
    "WHERE a.address CONTAINS 'Barcelona' AND a.countries CONTAINS 'Spain' AND a.sourceID STARTS WITH \"Paradise Papers\"\n",
    "RETURN a, other\n",
    "LIMIT 100\n",
    "```\n",
    "\n",
    "![Result](img/011.png)"
   ]
  },
  {
   "cell_type": "markdown",
   "metadata": {},
   "source": [
    "### Most popular offshore jurisdiction for people connected to a country\n",
    "\n",
    "What are the common offshore jurisdictions for officers with addresses in a certain country?\n",
    "\n",
    "```sql\n",
    "MATCH (o:Officer)-->(e:Entity)<-[:intermediary_of]-(i:Intermediary)\n",
    "WHERE o.country_codes CONTAINS 'USA' AND o.sourceID STARTS WITH \"Paradise Papers\"\n",
    "RETURN e.jurisdiction_description AS jurisdiction, count(*) AS number\n",
    "ORDER BY number DESC LIMIT 10;\n",
    "```\n",
    "\n",
    "![](img/012.png)"
   ]
  },
  {
   "cell_type": "markdown",
   "metadata": {},
   "source": [
    "## Full Text Search"
   ]
  },
  {
   "cell_type": "markdown",
   "metadata": {},
   "source": [
    "All the previous queries we run were searching the exact text of a node. However, you can also build an index to search the text of properties inside a node. Just like in a book where you look at the index to find a section that interest you, and then start reading from there.\n",
    "\n",
    "For that, you need to build the index first. It will take a little while since the procedure has to read through the entire database to create it.\n",
    "\n",
    "We used Solr as a full text search engine to search across all data. But you can do the same in Neo4j directly, both use Apache Lucene under the hood for full text search.\n",
    "\n",
    "In order to use the full text search feature, we indexed our data by specifying all the properties we want to index. Here we created a full text index called search (we will use this name when searching in the index) with all our data. You don't have to run this, it's just here as an example:\n",
    "\n",
    "```sql\n",
    "CREATE FULLTEXT INDEX search FOR (n:Officer|Intermediary|Address|Entity) ON EACH [n.name, n.address];\n",
    "```\n",
    "\n",
    "Then:\n",
    "\n",
    "```sql\n",
    "CALL db.index.fulltext.queryNodes('search','Nike',{limit:10})\n",
    "```\n",
    "\n",
    "![](img/013.png)\n",
    "\n",
    "You can futher restrict the full text search to only searching in a particular property. In order to seach for an Entity incorporated by offshore service provider Appleby, use the following:\n",
    "\n",
    "```sql\n",
    "CALL db.index.fulltext.queryNodes('search', 'name:\"Appleby\"',{limit:10})\n",
    "```"
   ]
  },
  {
   "cell_type": "markdown",
   "metadata": {},
   "source": []
  },
  {
   "cell_type": "markdown",
   "metadata": {},
   "source": [
    "### Full text search with graph patterns\n",
    "\n",
    "Previously we searched for nodes by matching against property values. However, integrating text search with an graph query is so much more powerful.\n",
    "\n",
    "We could for instance search for addresses in the database that contain the word \"New York\", and then find all entities registered at those addresses:\n",
    "\n",
    "```sql\n",
    "CALL db.index.fulltext.queryNodes(\"search\", 'address:\"New York\"')\n",
    "            YIELD node AS addr WHERE addr.sourceID STARTS WITH \"Paradise Papers\"\n",
    "            MATCH (addr:Address)<-[:registered_address]-(entity)\n",
    "            RETURN addr, entity LIMIT 50;\n",
    "```\n",
    "![](img/014.png)\n",
    "\n",
    "There may be typos in the data so we can use fuzzy matching to find addresses that have inconsistent spellings. Add a tilde (~) to instruct the index search procedure to do a fuzzy match, allowing you to find “Malta” even if the spelling is slightly off.\n",
    "\n",
    "```sql\n",
    "CALL db.index.fulltext.queryNodes(\"search\", 'address:Malta~')\n",
    "            YIELD node AS addr WHERE addr.sourceID STARTS WITH \"Paradise Papers\"\n",
    "            MATCH (addr:Address)<-[:registered_address]-(entity)\n",
    "            RETURN addr, entity LIMIT 50;\n",
    "```\n",
    "\n",
    "![](img/015.png)\n",
    "\n",
    "\n",
    "You might notice that there are addresses that contain the word “Barcelona” that are not in Barcelona, Spain.\n",
    "\n",
    "We can further specify that we want the text to contain both the word Barcelona, AND the word Spain with:\n",
    "\n",
    "```sql\n",
    "CALL db.index.fulltext.queryNodes(\"search\", '+name:Barcelona +name:Spain')\n",
    "            YIELD node AS addr WHERE addr.sourceID STARTS WITH \"Paradise Papers\"\n",
    "            MATCH (addr:Address)<-[:registered_address]-(entity)\n",
    "            RETURN addr, entity LIMIT 50\n",
    "```\n",
    "\n",
    "For more details on the query syntax used in the second parameter of the `search` procedure, please see this [Lucene query tutorial](https://lucenetutorial.com/lucene-query-syntax.html)"
   ]
  },
  {
   "cell_type": "markdown",
   "metadata": {},
   "source": []
  },
  {
   "cell_type": "markdown",
   "metadata": {},
   "source": [
    "## Graph Analytics\n",
    "\n",
    "PageRank is an algorithm used for instance by Google to rank websites in their search engine results. It assumes that more important entities are likely to have more connections pointing to them, and not just directly but also indirectly.\n",
    "\n",
    "The algorithm can also be used as way of measuring the importance of entities in a network. Let’s use PageRank to find the top 20 ranked entities in the dataset (this runs for about 20s).\n",
    "\n",
    "```sql\n",
    "CALL gds.graph.project(\n",
    "    'data-projection',\n",
    "    '*',\n",
    "    '*'\n",
    ")\n",
    "YIELD\n",
    "  graphName AS graph,\n",
    "  relationshipProjection AS knowsProjection,\n",
    "  nodeCount AS nodes,\n",
    "  relationshipCount AS rels;\n",
    "```\n",
    "\n",
    "```sql\n",
    "CALL gds.pageRank.stream(\n",
    "    'data-projection'\n",
    ")\n",
    "YIELD nodeId, score\n",
    "WITH gds.util.asNode(nodeId) AS node, score\n",
    "WHERE node:Entity AND node.sourceID STARTS WITH \"Paradise Papers\"\n",
    "RETURN node.name AS entity, score\n",
    "ORDER BY score DESC \n",
    "LIMIT 20;\n",
    "```\n",
    "\n",
    "![](img/016.png)"
   ]
  },
  {
   "cell_type": "markdown",
   "metadata": {},
   "source": []
  },
  {
   "cell_type": "markdown",
   "metadata": {},
   "source": [
    "Now let’s try a similar query but investigating different patterns. The following detects the 10 top ranked addresses. It then finds how many entities are registered at those addresses. Note that the address nodes contain text that has not been standardized, therefore there may be inconsistencies in the address data.\n",
    "\n",
    "```sql\n",
    "CALL gds.pageRank.stream(\n",
    "    'data-projection'\n",
    ")\n",
    "YIELD nodeId, score\n",
    "WITH gds.util.asNode(nodeId) as node, score\n",
    "        WHERE node:Address AND node.sourceID STARTS WITH \"Paradise Papers\"\n",
    "WITH * ORDER BY score DESC  LIMIT 10\n",
    "MATCH (address)<-[:registered_address]-(e:Entity)\n",
    "RETURN address.address, count(e) AS count\n",
    "ORDER BY count DESC\n",
    "```\n",
    "\n",
    "![](img/017.png)"
   ]
  },
  {
   "cell_type": "markdown",
   "metadata": {},
   "source": [
    "\n"
   ]
  }
 ],
 "metadata": {
  "kernelspec": {
   "display_name": ".venv",
   "language": "python",
   "name": "python3"
  },
  "language_info": {
   "codemirror_mode": {
    "name": "ipython",
    "version": 3
   },
   "file_extension": ".py",
   "mimetype": "text/x-python",
   "name": "python",
   "nbconvert_exporter": "python",
   "pygments_lexer": "ipython3",
   "version": "3.12.1"
  }
 },
 "nbformat": 4,
 "nbformat_minor": 2
}
